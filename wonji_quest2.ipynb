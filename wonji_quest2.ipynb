{
 "cells": [
  {
   "cell_type": "code",
   "execution_count": 3,
   "metadata": {},
   "outputs": [],
   "source": [
    "import numpy"
   ]
  },
  {
   "cell_type": "code",
   "execution_count": 4,
   "metadata": {},
   "outputs": [],
   "source": [
    "import pandas as pd"
   ]
  },
  {
   "cell_type": "code",
   "execution_count": 5,
   "metadata": {},
   "outputs": [],
   "source": [
    "df= pd.read_csv(\"Y2019Q4.csv\", header=0, engine='python') "
   ]
  },
  {
   "cell_type": "code",
   "execution_count": 6,
   "metadata": {},
   "outputs": [
    {
     "data": {
      "text/html": [
       "<div>\n",
       "<style scoped>\n",
       "    .dataframe tbody tr th:only-of-type {\n",
       "        vertical-align: middle;\n",
       "    }\n",
       "\n",
       "    .dataframe tbody tr th {\n",
       "        vertical-align: top;\n",
       "    }\n",
       "\n",
       "    .dataframe thead th {\n",
       "        text-align: right;\n",
       "    }\n",
       "</style>\n",
       "<table border=\"1\" class=\"dataframe\">\n",
       "  <thead>\n",
       "    <tr style=\"text-align: right;\">\n",
       "      <th></th>\n",
       "      <th>SGG</th>\n",
       "      <th>망</th>\n",
       "      <th>id</th>\n",
       "      <th>id_name</th>\n",
       "      <th>date</th>\n",
       "      <th>SO2</th>\n",
       "      <th>CO</th>\n",
       "      <th>O3</th>\n",
       "      <th>NO2</th>\n",
       "      <th>PM10</th>\n",
       "      <th>PM25</th>\n",
       "      <th>add</th>\n",
       "    </tr>\n",
       "  </thead>\n",
       "  <tbody>\n",
       "    <tr>\n",
       "      <th>0</th>\n",
       "      <td>서울 중구</td>\n",
       "      <td>도시대기</td>\n",
       "      <td>111121</td>\n",
       "      <td>중구</td>\n",
       "      <td>2019040101</td>\n",
       "      <td>0.002</td>\n",
       "      <td>0.4</td>\n",
       "      <td>0.037</td>\n",
       "      <td>0.022</td>\n",
       "      <td>27.0</td>\n",
       "      <td>16.0</td>\n",
       "      <td>서울특별시 중구 덕수궁길 15</td>\n",
       "    </tr>\n",
       "    <tr>\n",
       "      <th>1</th>\n",
       "      <td>서울 중구</td>\n",
       "      <td>도시대기</td>\n",
       "      <td>111121</td>\n",
       "      <td>중구</td>\n",
       "      <td>2019040102</td>\n",
       "      <td>0.003</td>\n",
       "      <td>0.4</td>\n",
       "      <td>0.037</td>\n",
       "      <td>0.021</td>\n",
       "      <td>25.0</td>\n",
       "      <td>15.0</td>\n",
       "      <td>서울특별시 중구 덕수궁길 15</td>\n",
       "    </tr>\n",
       "    <tr>\n",
       "      <th>2</th>\n",
       "      <td>서울 중구</td>\n",
       "      <td>도시대기</td>\n",
       "      <td>111121</td>\n",
       "      <td>중구</td>\n",
       "      <td>2019040103</td>\n",
       "      <td>0.003</td>\n",
       "      <td>0.4</td>\n",
       "      <td>0.041</td>\n",
       "      <td>0.016</td>\n",
       "      <td>23.0</td>\n",
       "      <td>13.0</td>\n",
       "      <td>서울특별시 중구 덕수궁길 15</td>\n",
       "    </tr>\n",
       "    <tr>\n",
       "      <th>3</th>\n",
       "      <td>서울 중구</td>\n",
       "      <td>도시대기</td>\n",
       "      <td>111121</td>\n",
       "      <td>중구</td>\n",
       "      <td>2019040104</td>\n",
       "      <td>0.002</td>\n",
       "      <td>0.5</td>\n",
       "      <td>0.030</td>\n",
       "      <td>0.025</td>\n",
       "      <td>22.0</td>\n",
       "      <td>12.0</td>\n",
       "      <td>서울특별시 중구 덕수궁길 15</td>\n",
       "    </tr>\n",
       "    <tr>\n",
       "      <th>4</th>\n",
       "      <td>서울 중구</td>\n",
       "      <td>도시대기</td>\n",
       "      <td>111121</td>\n",
       "      <td>중구</td>\n",
       "      <td>2019040105</td>\n",
       "      <td>0.002</td>\n",
       "      <td>0.4</td>\n",
       "      <td>0.032</td>\n",
       "      <td>0.023</td>\n",
       "      <td>23.0</td>\n",
       "      <td>12.0</td>\n",
       "      <td>서울특별시 중구 덕수궁길 15</td>\n",
       "    </tr>\n",
       "  </tbody>\n",
       "</table>\n",
       "</div>"
      ],
      "text/plain": [
       "     SGG     망      id id_name        date    SO2   CO     O3    NO2  PM10  \\\n",
       "0  서울 중구  도시대기  111121      중구  2019040101  0.002  0.4  0.037  0.022  27.0   \n",
       "1  서울 중구  도시대기  111121      중구  2019040102  0.003  0.4  0.037  0.021  25.0   \n",
       "2  서울 중구  도시대기  111121      중구  2019040103  0.003  0.4  0.041  0.016  23.0   \n",
       "3  서울 중구  도시대기  111121      중구  2019040104  0.002  0.5  0.030  0.025  22.0   \n",
       "4  서울 중구  도시대기  111121      중구  2019040105  0.002  0.4  0.032  0.023  23.0   \n",
       "\n",
       "   PM25               add  \n",
       "0  16.0  서울특별시 중구 덕수궁길 15  \n",
       "1  15.0  서울특별시 중구 덕수궁길 15  \n",
       "2  13.0  서울특별시 중구 덕수궁길 15  \n",
       "3  12.0  서울특별시 중구 덕수궁길 15  \n",
       "4  12.0  서울특별시 중구 덕수궁길 15  "
      ]
     },
     "execution_count": 6,
     "metadata": {},
     "output_type": "execute_result"
    }
   ],
   "source": [
    "df=df.rename(index=str, columns={'지역':\"SGG\",\"측정소코드\":\"id\",\"측정소명\":\"id_name\",\"측정일시\":\"date\",\"주소\":\"add\"})\n",
    "df.head()"
   ]
  },
  {
   "cell_type": "code",
   "execution_count": 7,
   "metadata": {},
   "outputs": [
    {
     "data": {
      "text/html": [
       "<div>\n",
       "<style scoped>\n",
       "    .dataframe tbody tr th:only-of-type {\n",
       "        vertical-align: middle;\n",
       "    }\n",
       "\n",
       "    .dataframe tbody tr th {\n",
       "        vertical-align: top;\n",
       "    }\n",
       "\n",
       "    .dataframe thead th {\n",
       "        text-align: right;\n",
       "    }\n",
       "</style>\n",
       "<table border=\"1\" class=\"dataframe\">\n",
       "  <thead>\n",
       "    <tr style=\"text-align: right;\">\n",
       "      <th></th>\n",
       "      <th>SGG</th>\n",
       "      <th>id</th>\n",
       "      <th>date</th>\n",
       "      <th>SO2</th>\n",
       "      <th>CO</th>\n",
       "      <th>PM10</th>\n",
       "      <th>PM25</th>\n",
       "    </tr>\n",
       "  </thead>\n",
       "  <tbody>\n",
       "    <tr>\n",
       "      <th>314334</th>\n",
       "      <td>인천 옹진군</td>\n",
       "      <td>831492</td>\n",
       "      <td>2019043020</td>\n",
       "      <td>0.0017</td>\n",
       "      <td>0.2</td>\n",
       "      <td>16.0</td>\n",
       "      <td>12.0</td>\n",
       "    </tr>\n",
       "    <tr>\n",
       "      <th>314335</th>\n",
       "      <td>인천 옹진군</td>\n",
       "      <td>831492</td>\n",
       "      <td>2019043021</td>\n",
       "      <td>0.0013</td>\n",
       "      <td>0.2</td>\n",
       "      <td>19.0</td>\n",
       "      <td>10.0</td>\n",
       "    </tr>\n",
       "    <tr>\n",
       "      <th>314336</th>\n",
       "      <td>인천 옹진군</td>\n",
       "      <td>831492</td>\n",
       "      <td>2019043022</td>\n",
       "      <td>0.0012</td>\n",
       "      <td>0.2</td>\n",
       "      <td>21.0</td>\n",
       "      <td>9.0</td>\n",
       "    </tr>\n",
       "    <tr>\n",
       "      <th>314337</th>\n",
       "      <td>인천 옹진군</td>\n",
       "      <td>831492</td>\n",
       "      <td>2019043023</td>\n",
       "      <td>0.0010</td>\n",
       "      <td>0.2</td>\n",
       "      <td>21.0</td>\n",
       "      <td>15.0</td>\n",
       "    </tr>\n",
       "    <tr>\n",
       "      <th>314338</th>\n",
       "      <td>인천 옹진군</td>\n",
       "      <td>831492</td>\n",
       "      <td>2019043024</td>\n",
       "      <td>0.0010</td>\n",
       "      <td>0.2</td>\n",
       "      <td>22.0</td>\n",
       "      <td>11.0</td>\n",
       "    </tr>\n",
       "  </tbody>\n",
       "</table>\n",
       "</div>"
      ],
      "text/plain": [
       "           SGG      id        date     SO2   CO  PM10  PM25\n",
       "314334  인천 옹진군  831492  2019043020  0.0017  0.2  16.0  12.0\n",
       "314335  인천 옹진군  831492  2019043021  0.0013  0.2  19.0  10.0\n",
       "314336  인천 옹진군  831492  2019043022  0.0012  0.2  21.0   9.0\n",
       "314337  인천 옹진군  831492  2019043023  0.0010  0.2  21.0  15.0\n",
       "314338  인천 옹진군  831492  2019043024  0.0010  0.2  22.0  11.0"
      ]
     },
     "execution_count": 7,
     "metadata": {},
     "output_type": "execute_result"
    }
   ],
   "source": [
    "cols=['SGG','id','date','SO2','CO','PM10','PM25']\n",
    "df2=df[cols]\n",
    "df2.tail()"
   ]
  },
  {
   "cell_type": "code",
   "execution_count": 8,
   "metadata": {},
   "outputs": [
    {
     "data": {
      "text/html": [
       "<div>\n",
       "<style scoped>\n",
       "    .dataframe tbody tr th:only-of-type {\n",
       "        vertical-align: middle;\n",
       "    }\n",
       "\n",
       "    .dataframe tbody tr th {\n",
       "        vertical-align: top;\n",
       "    }\n",
       "\n",
       "    .dataframe thead th {\n",
       "        text-align: right;\n",
       "    }\n",
       "</style>\n",
       "<table border=\"1\" class=\"dataframe\">\n",
       "  <thead>\n",
       "    <tr style=\"text-align: right;\">\n",
       "      <th></th>\n",
       "      <th>SGG</th>\n",
       "      <th>id</th>\n",
       "      <th>date</th>\n",
       "      <th>SO2</th>\n",
       "      <th>CO</th>\n",
       "      <th>PM10</th>\n",
       "      <th>PM25</th>\n",
       "    </tr>\n",
       "  </thead>\n",
       "  <tbody>\n",
       "    <tr>\n",
       "      <th>0</th>\n",
       "      <td>False</td>\n",
       "      <td>False</td>\n",
       "      <td>False</td>\n",
       "      <td>False</td>\n",
       "      <td>False</td>\n",
       "      <td>False</td>\n",
       "      <td>False</td>\n",
       "    </tr>\n",
       "    <tr>\n",
       "      <th>1</th>\n",
       "      <td>False</td>\n",
       "      <td>False</td>\n",
       "      <td>False</td>\n",
       "      <td>False</td>\n",
       "      <td>False</td>\n",
       "      <td>False</td>\n",
       "      <td>False</td>\n",
       "    </tr>\n",
       "    <tr>\n",
       "      <th>2</th>\n",
       "      <td>False</td>\n",
       "      <td>False</td>\n",
       "      <td>False</td>\n",
       "      <td>False</td>\n",
       "      <td>False</td>\n",
       "      <td>False</td>\n",
       "      <td>False</td>\n",
       "    </tr>\n",
       "    <tr>\n",
       "      <th>3</th>\n",
       "      <td>False</td>\n",
       "      <td>False</td>\n",
       "      <td>False</td>\n",
       "      <td>False</td>\n",
       "      <td>False</td>\n",
       "      <td>False</td>\n",
       "      <td>False</td>\n",
       "    </tr>\n",
       "    <tr>\n",
       "      <th>4</th>\n",
       "      <td>False</td>\n",
       "      <td>False</td>\n",
       "      <td>False</td>\n",
       "      <td>False</td>\n",
       "      <td>False</td>\n",
       "      <td>False</td>\n",
       "      <td>False</td>\n",
       "    </tr>\n",
       "  </tbody>\n",
       "</table>\n",
       "</div>"
      ],
      "text/plain": [
       "     SGG     id   date    SO2     CO   PM10   PM25\n",
       "0  False  False  False  False  False  False  False\n",
       "1  False  False  False  False  False  False  False\n",
       "2  False  False  False  False  False  False  False\n",
       "3  False  False  False  False  False  False  False\n",
       "4  False  False  False  False  False  False  False"
      ]
     },
     "execution_count": 8,
     "metadata": {},
     "output_type": "execute_result"
    }
   ],
   "source": [
    "df2.isna().head()"
   ]
  },
  {
   "cell_type": "code",
   "execution_count": 9,
   "metadata": {},
   "outputs": [
    {
     "data": {
      "text/plain": [
       "SGG         0\n",
       "id          0\n",
       "date        0\n",
       "SO2     12825\n",
       "CO      13450\n",
       "PM10    11758\n",
       "PM25    30374\n",
       "dtype: int64"
      ]
     },
     "execution_count": 9,
     "metadata": {},
     "output_type": "execute_result"
    }
   ],
   "source": [
    "df2.isna().sum() #SO2, CO, PM10, PL25에 결측치가 있다. "
   ]
  },
  {
   "cell_type": "code",
   "execution_count": 10,
   "metadata": {},
   "outputs": [],
   "source": [
    "so2=df2['SO2'].mean()"
   ]
  },
  {
   "cell_type": "code",
   "execution_count": 15,
   "metadata": {},
   "outputs": [],
   "source": [
    "pd.options.mode.chained_assignment = None"
   ]
  },
  {
   "cell_type": "code",
   "execution_count": 17,
   "metadata": {},
   "outputs": [],
   "source": [
    "df2['SO2']=df2['SO2'].fillna(df['SO2'].mean()) #SO2의 결측치를 평균으로 채운다."
   ]
  },
  {
   "cell_type": "code",
   "execution_count": 18,
   "metadata": {},
   "outputs": [],
   "source": [
    "df2['CO']=df2['CO'].fillna(df['CO'].mean()) #CO의 결측치를 평균으로 채운다."
   ]
  },
  {
   "cell_type": "code",
   "execution_count": 19,
   "metadata": {},
   "outputs": [
    {
     "data": {
      "text/plain": [
       "SGG         0\n",
       "id          0\n",
       "date        0\n",
       "SO2         0\n",
       "CO          0\n",
       "PM10    11758\n",
       "PM25    30374\n",
       "dtype: int64"
      ]
     },
     "execution_count": 19,
     "metadata": {},
     "output_type": "execute_result"
    }
   ],
   "source": [
    "df2.isna().sum()   #그래서 두 열에 있는 결측치가 없어졌음을 확인했다. "
   ]
  },
  {
   "cell_type": "code",
   "execution_count": 20,
   "metadata": {},
   "outputs": [],
   "source": [
    "df2=df2.dropna(how='any') #나머지 결측치가 PM10과 PM25에 있으므로 이들 값을 drop한다.  "
   ]
  },
  {
   "cell_type": "code",
   "execution_count": 21,
   "metadata": {},
   "outputs": [
    {
     "data": {
      "text/plain": [
       "SGG     0\n",
       "id      0\n",
       "date    0\n",
       "SO2     0\n",
       "CO      0\n",
       "PM10    0\n",
       "PM25    0\n",
       "dtype: int64"
      ]
     },
     "execution_count": 21,
     "metadata": {},
     "output_type": "execute_result"
    }
   ],
   "source": [
    "df2.isna().sum()  #이제 다 없어졌다."
   ]
  },
  {
   "cell_type": "code",
   "execution_count": 31,
   "metadata": {},
   "outputs": [],
   "source": [
    "s_date=df2.date.astype(str)\n",
    "s_hour=s_date.str[-2:]    #date를 str 형태로 바꿔서 마지막 두개의 값을 s_hour로 만든다. hour 열을 만들어서 거기에 입력한다. "
   ]
  },
  {
   "cell_type": "code",
   "execution_count": 32,
   "metadata": {},
   "outputs": [],
   "source": [
    "df2['hour']=s_hour"
   ]
  },
  {
   "cell_type": "code",
   "execution_count": 33,
   "metadata": {},
   "outputs": [
    {
     "data": {
      "text/html": [
       "<div>\n",
       "<style scoped>\n",
       "    .dataframe tbody tr th:only-of-type {\n",
       "        vertical-align: middle;\n",
       "    }\n",
       "\n",
       "    .dataframe tbody tr th {\n",
       "        vertical-align: top;\n",
       "    }\n",
       "\n",
       "    .dataframe thead th {\n",
       "        text-align: right;\n",
       "    }\n",
       "</style>\n",
       "<table border=\"1\" class=\"dataframe\">\n",
       "  <thead>\n",
       "    <tr style=\"text-align: right;\">\n",
       "      <th></th>\n",
       "      <th>SGG</th>\n",
       "      <th>id</th>\n",
       "      <th>date</th>\n",
       "      <th>SO2</th>\n",
       "      <th>CO</th>\n",
       "      <th>PM10</th>\n",
       "      <th>PM25</th>\n",
       "      <th>hour</th>\n",
       "    </tr>\n",
       "  </thead>\n",
       "  <tbody>\n",
       "    <tr>\n",
       "      <th>0</th>\n",
       "      <td>서울 중구</td>\n",
       "      <td>111121</td>\n",
       "      <td>2019040101</td>\n",
       "      <td>0.002</td>\n",
       "      <td>0.4</td>\n",
       "      <td>27.0</td>\n",
       "      <td>16.0</td>\n",
       "      <td>01</td>\n",
       "    </tr>\n",
       "    <tr>\n",
       "      <th>1</th>\n",
       "      <td>서울 중구</td>\n",
       "      <td>111121</td>\n",
       "      <td>2019040102</td>\n",
       "      <td>0.003</td>\n",
       "      <td>0.4</td>\n",
       "      <td>25.0</td>\n",
       "      <td>15.0</td>\n",
       "      <td>02</td>\n",
       "    </tr>\n",
       "    <tr>\n",
       "      <th>2</th>\n",
       "      <td>서울 중구</td>\n",
       "      <td>111121</td>\n",
       "      <td>2019040103</td>\n",
       "      <td>0.003</td>\n",
       "      <td>0.4</td>\n",
       "      <td>23.0</td>\n",
       "      <td>13.0</td>\n",
       "      <td>03</td>\n",
       "    </tr>\n",
       "    <tr>\n",
       "      <th>3</th>\n",
       "      <td>서울 중구</td>\n",
       "      <td>111121</td>\n",
       "      <td>2019040104</td>\n",
       "      <td>0.002</td>\n",
       "      <td>0.5</td>\n",
       "      <td>22.0</td>\n",
       "      <td>12.0</td>\n",
       "      <td>04</td>\n",
       "    </tr>\n",
       "    <tr>\n",
       "      <th>4</th>\n",
       "      <td>서울 중구</td>\n",
       "      <td>111121</td>\n",
       "      <td>2019040105</td>\n",
       "      <td>0.002</td>\n",
       "      <td>0.4</td>\n",
       "      <td>23.0</td>\n",
       "      <td>12.0</td>\n",
       "      <td>05</td>\n",
       "    </tr>\n",
       "  </tbody>\n",
       "</table>\n",
       "</div>"
      ],
      "text/plain": [
       "     SGG      id        date    SO2   CO  PM10  PM25 hour\n",
       "0  서울 중구  111121  2019040101  0.002  0.4  27.0  16.0   01\n",
       "1  서울 중구  111121  2019040102  0.003  0.4  25.0  15.0   02\n",
       "2  서울 중구  111121  2019040103  0.003  0.4  23.0  13.0   03\n",
       "3  서울 중구  111121  2019040104  0.002  0.5  22.0  12.0   04\n",
       "4  서울 중구  111121  2019040105  0.002  0.4  23.0  12.0   05"
      ]
     },
     "execution_count": 33,
     "metadata": {},
     "output_type": "execute_result"
    }
   ],
   "source": [
    "df2.head()  #hour이 생겼음을 확인할 수 있다. "
   ]
  },
  {
   "cell_type": "code",
   "execution_count": 41,
   "metadata": {},
   "outputs": [],
   "source": [
    "con1=df2.PM25>35\n",
    "BAD_PM=df2[con1][['SGG','hour']]    #미세먼지 나쁨에 해당하는 시군과 시간대를 BAD_PM에 저장하여 sorting 한다. "
   ]
  },
  {
   "cell_type": "code",
   "execution_count": 42,
   "metadata": {},
   "outputs": [
    {
     "data": {
      "text/html": [
       "<div>\n",
       "<style scoped>\n",
       "    .dataframe tbody tr th:only-of-type {\n",
       "        vertical-align: middle;\n",
       "    }\n",
       "\n",
       "    .dataframe tbody tr th {\n",
       "        vertical-align: top;\n",
       "    }\n",
       "\n",
       "    .dataframe thead th {\n",
       "        text-align: right;\n",
       "    }\n",
       "</style>\n",
       "<table border=\"1\" class=\"dataframe\">\n",
       "  <thead>\n",
       "    <tr style=\"text-align: right;\">\n",
       "      <th></th>\n",
       "      <th>SGG</th>\n",
       "      <th>hour</th>\n",
       "    </tr>\n",
       "  </thead>\n",
       "  <tbody>\n",
       "    <tr>\n",
       "      <th>263515</th>\n",
       "      <td>충북 충주시</td>\n",
       "      <td>09</td>\n",
       "    </tr>\n",
       "    <tr>\n",
       "      <th>263798</th>\n",
       "      <td>충북 충주시</td>\n",
       "      <td>04</td>\n",
       "    </tr>\n",
       "    <tr>\n",
       "      <th>263716</th>\n",
       "      <td>충북 충주시</td>\n",
       "      <td>18</td>\n",
       "    </tr>\n",
       "    <tr>\n",
       "      <th>263715</th>\n",
       "      <td>충북 충주시</td>\n",
       "      <td>17</td>\n",
       "    </tr>\n",
       "    <tr>\n",
       "      <th>263707</th>\n",
       "      <td>충북 충주시</td>\n",
       "      <td>09</td>\n",
       "    </tr>\n",
       "  </tbody>\n",
       "</table>\n",
       "</div>"
      ],
      "text/plain": [
       "           SGG hour\n",
       "263515  충북 충주시   09\n",
       "263798  충북 충주시   04\n",
       "263716  충북 충주시   18\n",
       "263715  충북 충주시   17\n",
       "263707  충북 충주시   09"
      ]
     },
     "execution_count": 42,
     "metadata": {},
     "output_type": "execute_result"
    }
   ],
   "source": [
    "BAD_PM_sort=BAD_PM.sort_values(by=['SGG'],ascending=False) #ascending=True(오름차순), False(내림차순)\n",
    "BAD_PM_sort.head()"
   ]
  },
  {
   "cell_type": "code",
   "execution_count": 47,
   "metadata": {},
   "outputs": [
    {
     "data": {
      "text/plain": [
       "경기 부천시        1037\n",
       "충남 아산시         820\n",
       "경기 시흥시         623\n",
       "경기 평택시         615\n",
       "전북 전주시         606\n",
       "경기 화성시         602\n",
       "경기 고양시         554\n",
       "전북 익산시         515\n",
       "충북 청주시         496\n",
       "충남 천안시         493\n",
       "경기 수원시         466\n",
       "경기 안산시         435\n",
       "경남 창원시         407\n",
       "울산 남구          403\n",
       "충남 당진시\\r\\n     393\n",
       "경기 김포시         366\n",
       "전북 군산시         359\n",
       "경기 성남시         354\n",
       "충북             348\n",
       "경기 남양주시        307\n",
       "경기 안양시         288\n",
       "서울 서초구         268\n",
       "인천 남구          253\n",
       "서울 성동구         249\n",
       "전남 여수시         243\n",
       "부산 강서구         230\n",
       "세종 세종시         219\n",
       "인천 중구          216\n",
       "서울 영등포구        215\n",
       "서울 마포구         215\n",
       "              ... \n",
       "경남 거창군          33\n",
       "경남 고성군          31\n",
       "경남 하동군          31\n",
       "서울 강북구          31\n",
       "서울 금천구          30\n",
       "충남 계룡시          30\n",
       "경기 양평군          30\n",
       "경북 경산시          28\n",
       "경북 영천시          27\n",
       "경북 영주시          26\n",
       "경남 함안군          26\n",
       "대전 동구           26\n",
       "경남 밀양시          24\n",
       "경남 사천시          23\n",
       "강원 속초시          23\n",
       "경기 가평군          21\n",
       "경북 경주시          19\n",
       "강원 양구군          18\n",
       "전북 무주군          18\n",
       "강원 동해시          15\n",
       "경기 하남시          15\n",
       "강원 삼척시          14\n",
       "강원 정선군          13\n",
       "경북 울릉군          12\n",
       "강원 강릉시          11\n",
       "강원 고성군           9\n",
       "충남 논산시           7\n",
       "경북 안동시           7\n",
       "강원 양양군           4\n",
       "경북               2\n",
       "Name: SGG, Length: 210, dtype: int64"
      ]
     },
     "execution_count": 47,
     "metadata": {},
     "output_type": "execute_result"
    }
   ],
   "source": [
    "BAD_PM_sort['SGG'].value_counts()  #시군과 시간대 별로 value_counts()를 해서 특별히 미세먼지 나쁨이 나타나는 장소, 시간대가 \n",
    "                                   #있는지 확인한다. 경기 부천시, 충남 아산시 등의 지역, 오전 8시~오전 11시에 미세먼지가 심한 것으로 보여진다."
   ]
  },
  {
   "cell_type": "code",
   "execution_count": 45,
   "metadata": {},
   "outputs": [
    {
     "data": {
      "text/plain": [
       "10    1980\n",
       "09    1937\n",
       "08    1589\n",
       "11    1568\n",
       "07    1354\n",
       "04    1300\n",
       "06    1297\n",
       "03    1283\n",
       "05    1274\n",
       "02    1247\n",
       "01    1222\n",
       "24    1164\n",
       "12    1132\n",
       "23    1089\n",
       "22    1030\n",
       "13     981\n",
       "21     900\n",
       "14     860\n",
       "15     826\n",
       "16     773\n",
       "20     736\n",
       "17     720\n",
       "19     712\n",
       "18     710\n",
       "Name: hour, dtype: int64"
      ]
     },
     "execution_count": 45,
     "metadata": {},
     "output_type": "execute_result"
    }
   ],
   "source": [
    "BAD_PM_sort['hour'].value_counts()"
   ]
  },
  {
   "cell_type": "code",
   "execution_count": null,
   "metadata": {},
   "outputs": [],
   "source": []
  }
 ],
 "metadata": {
  "kernelspec": {
   "display_name": "Python 3",
   "language": "python",
   "name": "python3"
  },
  "language_info": {
   "codemirror_mode": {
    "name": "ipython",
    "version": 3
   },
   "file_extension": ".py",
   "mimetype": "text/x-python",
   "name": "python",
   "nbconvert_exporter": "python",
   "pygments_lexer": "ipython3",
   "version": "3.7.1"
  }
 },
 "nbformat": 4,
 "nbformat_minor": 2
}
