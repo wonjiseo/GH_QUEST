{
 "cells": [
  {
   "cell_type": "markdown",
   "metadata": {},
   "source": [
    "## &#128205; Basic Setups"
   ]
  },
  {
   "cell_type": "code",
   "execution_count": 1,
   "metadata": {},
   "outputs": [
    {
     "name": "stdout",
     "output_type": "stream",
     "text": [
      "Requirement already satisfied: numpy in c:\\users\\82107\\anaconda3\\lib\\site-packages (1.16.4)\n",
      "Requirement already satisfied: pandas in c:\\users\\82107\\anaconda3\\lib\\site-packages (0.24.2)\n",
      "Requirement already satisfied: python-dateutil>=2.5.0 in c:\\users\\82107\\anaconda3\\lib\\site-packages (from pandas) (2.8.0)\n",
      "Requirement already satisfied: numpy>=1.12.0 in c:\\users\\82107\\anaconda3\\lib\\site-packages (from pandas) (1.16.4)\n",
      "Requirement already satisfied: pytz>=2011k in c:\\users\\82107\\anaconda3\\lib\\site-packages (from pandas) (2019.1)\n",
      "Requirement already satisfied: six>=1.5 in c:\\users\\82107\\anaconda3\\lib\\site-packages (from python-dateutil>=2.5.0->pandas) (1.12.0)\n",
      "Requirement already satisfied: matplotlib==3.0.3 in c:\\users\\82107\\anaconda3\\lib\\site-packages (3.0.3)\n",
      "Requirement already satisfied: numpy>=1.10.0 in c:\\users\\82107\\anaconda3\\lib\\site-packages (from matplotlib==3.0.3) (1.16.4)\n",
      "Requirement already satisfied: python-dateutil>=2.1 in c:\\users\\82107\\anaconda3\\lib\\site-packages (from matplotlib==3.0.3) (2.8.0)\n",
      "Requirement already satisfied: cycler>=0.10 in c:\\users\\82107\\anaconda3\\lib\\site-packages (from matplotlib==3.0.3) (0.10.0)\n",
      "Requirement already satisfied: kiwisolver>=1.0.1 in c:\\users\\82107\\anaconda3\\lib\\site-packages (from matplotlib==3.0.3) (1.1.0)\n",
      "Requirement already satisfied: pyparsing!=2.0.4,!=2.1.2,!=2.1.6,>=2.0.1 in c:\\users\\82107\\anaconda3\\lib\\site-packages (from matplotlib==3.0.3) (2.4.0)\n",
      "Requirement already satisfied: six>=1.5 in c:\\users\\82107\\anaconda3\\lib\\site-packages (from python-dateutil>=2.1->matplotlib==3.0.3) (1.12.0)\n",
      "Requirement already satisfied: setuptools in c:\\users\\82107\\anaconda3\\lib\\site-packages (from kiwisolver>=1.0.1->matplotlib==3.0.3) (41.0.1)\n",
      "Requirement already satisfied: seaborn in c:\\users\\82107\\anaconda3\\lib\\site-packages (0.9.0)\n",
      "Requirement already satisfied: matplotlib>=1.4.3 in c:\\users\\82107\\anaconda3\\lib\\site-packages (from seaborn) (3.0.3)\n",
      "Requirement already satisfied: scipy>=0.14.0 in c:\\users\\82107\\anaconda3\\lib\\site-packages (from seaborn) (1.2.1)\n",
      "Requirement already satisfied: numpy>=1.9.3 in c:\\users\\82107\\anaconda3\\lib\\site-packages (from seaborn) (1.16.4)\n",
      "Requirement already satisfied: pandas>=0.15.2 in c:\\users\\82107\\anaconda3\\lib\\site-packages (from seaborn) (0.24.2)\n",
      "Requirement already satisfied: cycler>=0.10 in c:\\users\\82107\\anaconda3\\lib\\site-packages (from matplotlib>=1.4.3->seaborn) (0.10.0)\n",
      "Requirement already satisfied: python-dateutil>=2.1 in c:\\users\\82107\\anaconda3\\lib\\site-packages (from matplotlib>=1.4.3->seaborn) (2.8.0)\n",
      "Requirement already satisfied: pyparsing!=2.0.4,!=2.1.2,!=2.1.6,>=2.0.1 in c:\\users\\82107\\anaconda3\\lib\\site-packages (from matplotlib>=1.4.3->seaborn) (2.4.0)\n",
      "Requirement already satisfied: kiwisolver>=1.0.1 in c:\\users\\82107\\anaconda3\\lib\\site-packages (from matplotlib>=1.4.3->seaborn) (1.1.0)\n",
      "Requirement already satisfied: pytz>=2011k in c:\\users\\82107\\anaconda3\\lib\\site-packages (from pandas>=0.15.2->seaborn) (2019.1)\n",
      "Requirement already satisfied: six in c:\\users\\82107\\anaconda3\\lib\\site-packages (from cycler>=0.10->matplotlib>=1.4.3->seaborn) (1.12.0)\n",
      "Requirement already satisfied: setuptools in c:\\users\\82107\\anaconda3\\lib\\site-packages (from kiwisolver>=1.0.1->matplotlib>=1.4.3->seaborn) (41.0.1)\n"
     ]
    }
   ],
   "source": [
    "# Install pip packages in the current Jupyter kernel\n",
    "# https://jakevdp.github.io/blog/2017/12/05/installing-python-packages-from-jupyter/ \n",
    "import sys\n",
    "!{sys.executable} -m pip install numpy\n",
    "!{sys.executable} -m pip install pandas\n",
    "!{sys.executable} -m pip install matplotlib==3.0.3\n",
    "!{sys.executable} -m pip install seaborn"
   ]
  },
  {
   "cell_type": "code",
   "execution_count": 2,
   "metadata": {},
   "outputs": [],
   "source": [
    "import numpy as np\n",
    "import pandas as pd\n",
    "import matplotlib.pyplot as plt \n",
    "import seaborn as sns \n",
    "\n",
    "# 커널을 구성하다보면 에러는 아니지만, 빨간색 네모 박스 warning이 뜨는 경우가 많다. \n",
    "# 그런 보기 싫은 부분들을 제거해주겠다.\n",
    "import warnings\n",
    "warnings.filterwarnings('ignore')\n",
    "\n",
    "# notebook을 실행한 브라우저에서 바로 그림을 볼 수 있게 해주는 것\n",
    "%matplotlib inline "
   ]
  },
  {
   "cell_type": "code",
   "execution_count": 3,
   "metadata": {},
   "outputs": [
    {
     "data": {
      "text/plain": [
       "'C:\\\\Users\\\\82107'"
      ]
     },
     "execution_count": 3,
     "metadata": {},
     "output_type": "execute_result"
    }
   ],
   "source": [
    "# os 패키지를 통해 현재 디렉토리 위치를 변경하고, read_csv를 더 편리하게 할 수 있음\n",
    "import os\n",
    "os.getcwd() # 현재 디렉토리 파악\n",
    "# os.chdir(r\"______\") # 불러오고 싶은 파일이 위치한 주소를 ___에 입력"
   ]
  },
  {
   "cell_type": "markdown",
   "metadata": {},
   "source": [
    "**쥬피터 노트북에서 시각화할때, matplotlib가 한글 폰트 지원하지 않아, 깨짐 처리해줘야 함**"
   ]
  },
  {
   "cell_type": "code",
   "execution_count": 4,
   "metadata": {},
   "outputs": [],
   "source": [
    "# 다른 노트북 작성할 때도 이 셀만 떼서 사용 가능하다.\n",
    "import matplotlib.pyplot as plt \n",
    "import platform                \n",
    "\n",
    "# 웬만하면 해주는 것이 좋다.\n",
    "from matplotlib import font_manager, rc\n",
    "plt.rcParams['axes.unicode_minus']= False\n",
    "\n",
    "if platform.system() == 'Windows':#윈도우 사용자의 경우에\n",
    "    path = 'c:/Windows/Fonts/malgun.ttf'\n",
    "    font_name = font_manager.FontProperties(fname=path).get_name()\n",
    "    plt.style.use('seaborn-darkgrid') # https://python-graph-gallery.com/199-matplotlib-style-sheets/\n",
    "    rc('font', family=font_name)"
   ]
  },
  {
   "cell_type": "markdown",
   "metadata": {},
   "source": [
    "## &#128205; 1. 데이터프레임 확인"
   ]
  },
  {
   "cell_type": "code",
   "execution_count": 5,
   "metadata": {},
   "outputs": [
    {
     "data": {
      "text/html": [
       "<div>\n",
       "<style scoped>\n",
       "    .dataframe tbody tr th:only-of-type {\n",
       "        vertical-align: middle;\n",
       "    }\n",
       "\n",
       "    .dataframe tbody tr th {\n",
       "        vertical-align: top;\n",
       "    }\n",
       "\n",
       "    .dataframe thead th {\n",
       "        text-align: right;\n",
       "    }\n",
       "</style>\n",
       "<table border=\"1\" class=\"dataframe\">\n",
       "  <thead>\n",
       "    <tr style=\"text-align: right;\">\n",
       "      <th></th>\n",
       "      <th>start_date</th>\n",
       "      <th>end_date</th>\n",
       "      <th>start_hour</th>\n",
       "      <th>end_hour</th>\n",
       "      <th>trip_duration</th>\n",
       "      <th>start_station_id</th>\n",
       "      <th>start_station_name</th>\n",
       "      <th>start_station_latitude</th>\n",
       "      <th>start_station_longitude</th>\n",
       "      <th>end_station_id</th>\n",
       "      <th>end_station_name</th>\n",
       "      <th>end_station_latitude</th>\n",
       "      <th>end_station_longitude</th>\n",
       "      <th>bike_id</th>\n",
       "      <th>usertype</th>\n",
       "      <th>birth_year</th>\n",
       "      <th>gender</th>\n",
       "      <th>day_since_register</th>\n",
       "    </tr>\n",
       "  </thead>\n",
       "  <tbody>\n",
       "    <tr>\n",
       "      <th>0</th>\n",
       "      <td>2018-05-01</td>\n",
       "      <td>2018-05-01</td>\n",
       "      <td>4</td>\n",
       "      <td>4</td>\n",
       "      <td>390</td>\n",
       "      <td>3002</td>\n",
       "      <td>South End Ave &amp; Liberty St</td>\n",
       "      <td>40.711512</td>\n",
       "      <td>-74.015756</td>\n",
       "      <td>79</td>\n",
       "      <td>Franklin St &amp; W Broadway</td>\n",
       "      <td>40.719116</td>\n",
       "      <td>-74.006667</td>\n",
       "      <td>21105</td>\n",
       "      <td>Subscriber</td>\n",
       "      <td>1945</td>\n",
       "      <td>male</td>\n",
       "      <td>36</td>\n",
       "    </tr>\n",
       "    <tr>\n",
       "      <th>1</th>\n",
       "      <td>2018-05-01</td>\n",
       "      <td>2018-05-01</td>\n",
       "      <td>1</td>\n",
       "      <td>1</td>\n",
       "      <td>854</td>\n",
       "      <td>3611</td>\n",
       "      <td>Vernon Blvd &amp; 47 Rd</td>\n",
       "      <td>40.744907</td>\n",
       "      <td>-73.953457</td>\n",
       "      <td>3572</td>\n",
       "      <td>34 Ave &amp; 38 St</td>\n",
       "      <td>40.756913</td>\n",
       "      <td>-73.921631</td>\n",
       "      <td>32219</td>\n",
       "      <td>Subscriber</td>\n",
       "      <td>1998</td>\n",
       "      <td>male</td>\n",
       "      <td>29</td>\n",
       "    </tr>\n",
       "    <tr>\n",
       "      <th>2</th>\n",
       "      <td>2018-05-01</td>\n",
       "      <td>2018-05-01</td>\n",
       "      <td>4</td>\n",
       "      <td>4</td>\n",
       "      <td>526</td>\n",
       "      <td>515</td>\n",
       "      <td>W 43 St &amp; 10 Ave</td>\n",
       "      <td>40.760094</td>\n",
       "      <td>-73.994618</td>\n",
       "      <td>388</td>\n",
       "      <td>W 26 St &amp; 10 Ave</td>\n",
       "      <td>40.749718</td>\n",
       "      <td>-74.002950</td>\n",
       "      <td>33433</td>\n",
       "      <td>Subscriber</td>\n",
       "      <td>1954</td>\n",
       "      <td>male</td>\n",
       "      <td>55</td>\n",
       "    </tr>\n",
       "    <tr>\n",
       "      <th>3</th>\n",
       "      <td>2018-05-01</td>\n",
       "      <td>2018-05-01</td>\n",
       "      <td>3</td>\n",
       "      <td>3</td>\n",
       "      <td>885</td>\n",
       "      <td>3641</td>\n",
       "      <td>Broadway &amp; W 25 St</td>\n",
       "      <td>40.742869</td>\n",
       "      <td>-73.989186</td>\n",
       "      <td>336</td>\n",
       "      <td>Sullivan St &amp; Washington Sq</td>\n",
       "      <td>40.730477</td>\n",
       "      <td>-73.999061</td>\n",
       "      <td>32028</td>\n",
       "      <td>Subscriber</td>\n",
       "      <td>1963</td>\n",
       "      <td>male</td>\n",
       "      <td>32</td>\n",
       "    </tr>\n",
       "    <tr>\n",
       "      <th>4</th>\n",
       "      <td>2018-05-01</td>\n",
       "      <td>2018-05-01</td>\n",
       "      <td>1</td>\n",
       "      <td>1</td>\n",
       "      <td>324</td>\n",
       "      <td>3440</td>\n",
       "      <td>Fulton St &amp; Adams St</td>\n",
       "      <td>40.692418</td>\n",
       "      <td>-73.989495</td>\n",
       "      <td>3308</td>\n",
       "      <td>Kane St &amp; Clinton St</td>\n",
       "      <td>40.686176</td>\n",
       "      <td>-73.996453</td>\n",
       "      <td>26425</td>\n",
       "      <td>Subscriber</td>\n",
       "      <td>1965</td>\n",
       "      <td>male</td>\n",
       "      <td>34</td>\n",
       "    </tr>\n",
       "  </tbody>\n",
       "</table>\n",
       "</div>"
      ],
      "text/plain": [
       "   start_date    end_date  start_hour  end_hour  trip_duration  \\\n",
       "0  2018-05-01  2018-05-01           4         4            390   \n",
       "1  2018-05-01  2018-05-01           1         1            854   \n",
       "2  2018-05-01  2018-05-01           4         4            526   \n",
       "3  2018-05-01  2018-05-01           3         3            885   \n",
       "4  2018-05-01  2018-05-01           1         1            324   \n",
       "\n",
       "   start_station_id          start_station_name  start_station_latitude  \\\n",
       "0              3002  South End Ave & Liberty St               40.711512   \n",
       "1              3611         Vernon Blvd & 47 Rd               40.744907   \n",
       "2               515            W 43 St & 10 Ave               40.760094   \n",
       "3              3641          Broadway & W 25 St               40.742869   \n",
       "4              3440        Fulton St & Adams St               40.692418   \n",
       "\n",
       "   start_station_longitude  end_station_id             end_station_name  \\\n",
       "0               -74.015756              79     Franklin St & W Broadway   \n",
       "1               -73.953457            3572               34 Ave & 38 St   \n",
       "2               -73.994618             388             W 26 St & 10 Ave   \n",
       "3               -73.989186             336  Sullivan St & Washington Sq   \n",
       "4               -73.989495            3308         Kane St & Clinton St   \n",
       "\n",
       "   end_station_latitude  end_station_longitude  bike_id    usertype  \\\n",
       "0             40.719116             -74.006667    21105  Subscriber   \n",
       "1             40.756913             -73.921631    32219  Subscriber   \n",
       "2             40.749718             -74.002950    33433  Subscriber   \n",
       "3             40.730477             -73.999061    32028  Subscriber   \n",
       "4             40.686176             -73.996453    26425  Subscriber   \n",
       "\n",
       "   birth_year gender  day_since_register  \n",
       "0        1945   male                  36  \n",
       "1        1998   male                  29  \n",
       "2        1954   male                  55  \n",
       "3        1963   male                  32  \n",
       "4        1965   male                  34  "
      ]
     },
     "execution_count": 5,
     "metadata": {},
     "output_type": "execute_result"
    }
   ],
   "source": [
    "df=pd.read_csv(\"nyc_citibike.csv\",encoding='euc-kr') # 한글이 들어간 csv는 encoding 인자를 넣어주는 것이 좋음\n",
    "df.head()"
   ]
  },
  {
   "cell_type": "code",
   "execution_count": 6,
   "metadata": {},
   "outputs": [
    {
     "data": {
      "text/plain": [
       "(72035, 18)"
      ]
     },
     "execution_count": 6,
     "metadata": {},
     "output_type": "execute_result"
    }
   ],
   "source": [
    "# 데이터 shape 파악\n",
    "df.shape"
   ]
  },
  {
   "cell_type": "code",
   "execution_count": 7,
   "metadata": {},
   "outputs": [
    {
     "data": {
      "text/html": [
       "<div>\n",
       "<style scoped>\n",
       "    .dataframe tbody tr th:only-of-type {\n",
       "        vertical-align: middle;\n",
       "    }\n",
       "\n",
       "    .dataframe tbody tr th {\n",
       "        vertical-align: top;\n",
       "    }\n",
       "\n",
       "    .dataframe thead th {\n",
       "        text-align: right;\n",
       "    }\n",
       "</style>\n",
       "<table border=\"1\" class=\"dataframe\">\n",
       "  <thead>\n",
       "    <tr style=\"text-align: right;\">\n",
       "      <th></th>\n",
       "      <th>start_hour</th>\n",
       "      <th>end_hour</th>\n",
       "      <th>trip_duration</th>\n",
       "      <th>start_station_id</th>\n",
       "      <th>start_station_latitude</th>\n",
       "      <th>start_station_longitude</th>\n",
       "      <th>end_station_id</th>\n",
       "      <th>end_station_latitude</th>\n",
       "      <th>end_station_longitude</th>\n",
       "      <th>bike_id</th>\n",
       "      <th>birth_year</th>\n",
       "      <th>day_since_register</th>\n",
       "    </tr>\n",
       "  </thead>\n",
       "  <tbody>\n",
       "    <tr>\n",
       "      <th>count</th>\n",
       "      <td>72035.000000</td>\n",
       "      <td>72035.000000</td>\n",
       "      <td>7.203500e+04</td>\n",
       "      <td>72035.000000</td>\n",
       "      <td>72035.000000</td>\n",
       "      <td>72035.000000</td>\n",
       "      <td>72035.000000</td>\n",
       "      <td>72035.000000</td>\n",
       "      <td>72035.000000</td>\n",
       "      <td>72035.000000</td>\n",
       "      <td>72035.000000</td>\n",
       "      <td>72035.000000</td>\n",
       "    </tr>\n",
       "    <tr>\n",
       "      <th>mean</th>\n",
       "      <td>14.176775</td>\n",
       "      <td>14.372916</td>\n",
       "      <td>1.046751e+03</td>\n",
       "      <td>1535.681488</td>\n",
       "      <td>40.738587</td>\n",
       "      <td>-73.983531</td>\n",
       "      <td>1537.181287</td>\n",
       "      <td>40.738292</td>\n",
       "      <td>-73.983435</td>\n",
       "      <td>26139.737683</td>\n",
       "      <td>1977.994947</td>\n",
       "      <td>30.468522</td>\n",
       "    </tr>\n",
       "    <tr>\n",
       "      <th>std</th>\n",
       "      <td>4.809857</td>\n",
       "      <td>4.854897</td>\n",
       "      <td>8.139700e+03</td>\n",
       "      <td>1418.093403</td>\n",
       "      <td>0.029777</td>\n",
       "      <td>0.018456</td>\n",
       "      <td>1420.198780</td>\n",
       "      <td>0.029736</td>\n",
       "      <td>0.018639</td>\n",
       "      <td>5793.540983</td>\n",
       "      <td>11.868175</td>\n",
       "      <td>17.341855</td>\n",
       "    </tr>\n",
       "    <tr>\n",
       "      <th>min</th>\n",
       "      <td>0.000000</td>\n",
       "      <td>0.000000</td>\n",
       "      <td>6.100000e+01</td>\n",
       "      <td>72.000000</td>\n",
       "      <td>40.646538</td>\n",
       "      <td>-74.025353</td>\n",
       "      <td>72.000000</td>\n",
       "      <td>40.646538</td>\n",
       "      <td>-74.044247</td>\n",
       "      <td>14529.000000</td>\n",
       "      <td>1885.000000</td>\n",
       "      <td>1.000000</td>\n",
       "    </tr>\n",
       "    <tr>\n",
       "      <th>25%</th>\n",
       "      <td>10.000000</td>\n",
       "      <td>10.000000</td>\n",
       "      <td>3.980000e+02</td>\n",
       "      <td>382.000000</td>\n",
       "      <td>40.718939</td>\n",
       "      <td>-73.995481</td>\n",
       "      <td>382.000000</td>\n",
       "      <td>40.718939</td>\n",
       "      <td>-73.995299</td>\n",
       "      <td>20533.000000</td>\n",
       "      <td>1969.000000</td>\n",
       "      <td>15.000000</td>\n",
       "    </tr>\n",
       "    <tr>\n",
       "      <th>50%</th>\n",
       "      <td>15.000000</td>\n",
       "      <td>15.000000</td>\n",
       "      <td>6.810000e+02</td>\n",
       "      <td>504.000000</td>\n",
       "      <td>40.740343</td>\n",
       "      <td>-73.986580</td>\n",
       "      <td>503.000000</td>\n",
       "      <td>40.739974</td>\n",
       "      <td>-73.986580</td>\n",
       "      <td>27840.000000</td>\n",
       "      <td>1980.000000</td>\n",
       "      <td>30.000000</td>\n",
       "    </tr>\n",
       "    <tr>\n",
       "      <th>75%</th>\n",
       "      <td>18.000000</td>\n",
       "      <td>18.000000</td>\n",
       "      <td>1.201000e+03</td>\n",
       "      <td>3223.000000</td>\n",
       "      <td>40.758997</td>\n",
       "      <td>-73.973747</td>\n",
       "      <td>3224.000000</td>\n",
       "      <td>40.758924</td>\n",
       "      <td>-73.973747</td>\n",
       "      <td>30995.000000</td>\n",
       "      <td>1988.000000</td>\n",
       "      <td>46.000000</td>\n",
       "    </tr>\n",
       "    <tr>\n",
       "      <th>max</th>\n",
       "      <td>23.000000</td>\n",
       "      <td>23.000000</td>\n",
       "      <td>1.344462e+06</td>\n",
       "      <td>3680.000000</td>\n",
       "      <td>40.814394</td>\n",
       "      <td>-73.907744</td>\n",
       "      <td>3680.000000</td>\n",
       "      <td>40.814394</td>\n",
       "      <td>-73.907744</td>\n",
       "      <td>33671.000000</td>\n",
       "      <td>2002.000000</td>\n",
       "      <td>60.000000</td>\n",
       "    </tr>\n",
       "  </tbody>\n",
       "</table>\n",
       "</div>"
      ],
      "text/plain": [
       "         start_hour      end_hour  trip_duration  start_station_id  \\\n",
       "count  72035.000000  72035.000000   7.203500e+04      72035.000000   \n",
       "mean      14.176775     14.372916   1.046751e+03       1535.681488   \n",
       "std        4.809857      4.854897   8.139700e+03       1418.093403   \n",
       "min        0.000000      0.000000   6.100000e+01         72.000000   \n",
       "25%       10.000000     10.000000   3.980000e+02        382.000000   \n",
       "50%       15.000000     15.000000   6.810000e+02        504.000000   \n",
       "75%       18.000000     18.000000   1.201000e+03       3223.000000   \n",
       "max       23.000000     23.000000   1.344462e+06       3680.000000   \n",
       "\n",
       "       start_station_latitude  start_station_longitude  end_station_id  \\\n",
       "count            72035.000000             72035.000000    72035.000000   \n",
       "mean                40.738587               -73.983531     1537.181287   \n",
       "std                  0.029777                 0.018456     1420.198780   \n",
       "min                 40.646538               -74.025353       72.000000   \n",
       "25%                 40.718939               -73.995481      382.000000   \n",
       "50%                 40.740343               -73.986580      503.000000   \n",
       "75%                 40.758997               -73.973747     3224.000000   \n",
       "max                 40.814394               -73.907744     3680.000000   \n",
       "\n",
       "       end_station_latitude  end_station_longitude       bike_id  \\\n",
       "count          72035.000000           72035.000000  72035.000000   \n",
       "mean              40.738292             -73.983435  26139.737683   \n",
       "std                0.029736               0.018639   5793.540983   \n",
       "min               40.646538             -74.044247  14529.000000   \n",
       "25%               40.718939             -73.995299  20533.000000   \n",
       "50%               40.739974             -73.986580  27840.000000   \n",
       "75%               40.758924             -73.973747  30995.000000   \n",
       "max               40.814394             -73.907744  33671.000000   \n",
       "\n",
       "         birth_year  day_since_register  \n",
       "count  72035.000000        72035.000000  \n",
       "mean    1977.994947           30.468522  \n",
       "std       11.868175           17.341855  \n",
       "min     1885.000000            1.000000  \n",
       "25%     1969.000000           15.000000  \n",
       "50%     1980.000000           30.000000  \n",
       "75%     1988.000000           46.000000  \n",
       "max     2002.000000           60.000000  "
      ]
     },
     "execution_count": 7,
     "metadata": {},
     "output_type": "execute_result"
    }
   ],
   "source": [
    "# 데이터 통계량 파악\n",
    "df.describe()"
   ]
  },
  {
   "cell_type": "code",
   "execution_count": 8,
   "metadata": {},
   "outputs": [
    {
     "data": {
      "text/html": [
       "<div>\n",
       "<style scoped>\n",
       "    .dataframe tbody tr th:only-of-type {\n",
       "        vertical-align: middle;\n",
       "    }\n",
       "\n",
       "    .dataframe tbody tr th {\n",
       "        vertical-align: top;\n",
       "    }\n",
       "\n",
       "    .dataframe thead th {\n",
       "        text-align: right;\n",
       "    }\n",
       "</style>\n",
       "<table border=\"1\" class=\"dataframe\">\n",
       "  <thead>\n",
       "    <tr style=\"text-align: right;\">\n",
       "      <th></th>\n",
       "      <th>nan_count</th>\n",
       "    </tr>\n",
       "  </thead>\n",
       "  <tbody>\n",
       "    <tr>\n",
       "      <th>start_date</th>\n",
       "      <td>0</td>\n",
       "    </tr>\n",
       "    <tr>\n",
       "      <th>end_date</th>\n",
       "      <td>0</td>\n",
       "    </tr>\n",
       "    <tr>\n",
       "      <th>start_hour</th>\n",
       "      <td>0</td>\n",
       "    </tr>\n",
       "    <tr>\n",
       "      <th>end_hour</th>\n",
       "      <td>0</td>\n",
       "    </tr>\n",
       "    <tr>\n",
       "      <th>trip_duration</th>\n",
       "      <td>0</td>\n",
       "    </tr>\n",
       "    <tr>\n",
       "      <th>start_station_id</th>\n",
       "      <td>0</td>\n",
       "    </tr>\n",
       "    <tr>\n",
       "      <th>start_station_name</th>\n",
       "      <td>0</td>\n",
       "    </tr>\n",
       "    <tr>\n",
       "      <th>start_station_latitude</th>\n",
       "      <td>0</td>\n",
       "    </tr>\n",
       "    <tr>\n",
       "      <th>start_station_longitude</th>\n",
       "      <td>0</td>\n",
       "    </tr>\n",
       "    <tr>\n",
       "      <th>end_station_id</th>\n",
       "      <td>0</td>\n",
       "    </tr>\n",
       "    <tr>\n",
       "      <th>end_station_name</th>\n",
       "      <td>0</td>\n",
       "    </tr>\n",
       "    <tr>\n",
       "      <th>end_station_latitude</th>\n",
       "      <td>0</td>\n",
       "    </tr>\n",
       "    <tr>\n",
       "      <th>end_station_longitude</th>\n",
       "      <td>0</td>\n",
       "    </tr>\n",
       "    <tr>\n",
       "      <th>bike_id</th>\n",
       "      <td>0</td>\n",
       "    </tr>\n",
       "    <tr>\n",
       "      <th>usertype</th>\n",
       "      <td>0</td>\n",
       "    </tr>\n",
       "    <tr>\n",
       "      <th>birth_year</th>\n",
       "      <td>0</td>\n",
       "    </tr>\n",
       "    <tr>\n",
       "      <th>gender</th>\n",
       "      <td>0</td>\n",
       "    </tr>\n",
       "    <tr>\n",
       "      <th>day_since_register</th>\n",
       "      <td>0</td>\n",
       "    </tr>\n",
       "  </tbody>\n",
       "</table>\n",
       "</div>"
      ],
      "text/plain": [
       "                         nan_count\n",
       "start_date                       0\n",
       "end_date                         0\n",
       "start_hour                       0\n",
       "end_hour                         0\n",
       "trip_duration                    0\n",
       "start_station_id                 0\n",
       "start_station_name               0\n",
       "start_station_latitude           0\n",
       "start_station_longitude          0\n",
       "end_station_id                   0\n",
       "end_station_name                 0\n",
       "end_station_latitude             0\n",
       "end_station_longitude            0\n",
       "bike_id                          0\n",
       "usertype                         0\n",
       "birth_year                       0\n",
       "gender                           0\n",
       "day_since_register               0"
      ]
     },
     "execution_count": 8,
     "metadata": {},
     "output_type": "execute_result"
    }
   ],
   "source": [
    "# 결측치 개수 파악\n",
    "# 셀 실행 결과를 데이터프레임으로 보고 싶을 때 to_frame()과 pd.DataFrame() 두 가지를 사용 가능\n",
    "df.isnull().sum().to_frame('nan_count') "
   ]
  },
  {
   "cell_type": "code",
   "execution_count": 9,
   "metadata": {},
   "outputs": [
    {
     "data": {
      "text/html": [
       "<div>\n",
       "<style scoped>\n",
       "    .dataframe tbody tr th:only-of-type {\n",
       "        vertical-align: middle;\n",
       "    }\n",
       "\n",
       "    .dataframe tbody tr th {\n",
       "        vertical-align: top;\n",
       "    }\n",
       "\n",
       "    .dataframe thead th {\n",
       "        text-align: right;\n",
       "    }\n",
       "</style>\n",
       "<table border=\"1\" class=\"dataframe\">\n",
       "  <thead>\n",
       "    <tr style=\"text-align: right;\">\n",
       "      <th></th>\n",
       "      <th>nan_ratio</th>\n",
       "    </tr>\n",
       "  </thead>\n",
       "  <tbody>\n",
       "    <tr>\n",
       "      <th>start_date</th>\n",
       "      <td>0.0</td>\n",
       "    </tr>\n",
       "    <tr>\n",
       "      <th>end_date</th>\n",
       "      <td>0.0</td>\n",
       "    </tr>\n",
       "    <tr>\n",
       "      <th>start_hour</th>\n",
       "      <td>0.0</td>\n",
       "    </tr>\n",
       "    <tr>\n",
       "      <th>end_hour</th>\n",
       "      <td>0.0</td>\n",
       "    </tr>\n",
       "    <tr>\n",
       "      <th>trip_duration</th>\n",
       "      <td>0.0</td>\n",
       "    </tr>\n",
       "    <tr>\n",
       "      <th>start_station_id</th>\n",
       "      <td>0.0</td>\n",
       "    </tr>\n",
       "    <tr>\n",
       "      <th>start_station_name</th>\n",
       "      <td>0.0</td>\n",
       "    </tr>\n",
       "    <tr>\n",
       "      <th>start_station_latitude</th>\n",
       "      <td>0.0</td>\n",
       "    </tr>\n",
       "    <tr>\n",
       "      <th>start_station_longitude</th>\n",
       "      <td>0.0</td>\n",
       "    </tr>\n",
       "    <tr>\n",
       "      <th>end_station_id</th>\n",
       "      <td>0.0</td>\n",
       "    </tr>\n",
       "    <tr>\n",
       "      <th>end_station_name</th>\n",
       "      <td>0.0</td>\n",
       "    </tr>\n",
       "    <tr>\n",
       "      <th>end_station_latitude</th>\n",
       "      <td>0.0</td>\n",
       "    </tr>\n",
       "    <tr>\n",
       "      <th>end_station_longitude</th>\n",
       "      <td>0.0</td>\n",
       "    </tr>\n",
       "    <tr>\n",
       "      <th>bike_id</th>\n",
       "      <td>0.0</td>\n",
       "    </tr>\n",
       "    <tr>\n",
       "      <th>usertype</th>\n",
       "      <td>0.0</td>\n",
       "    </tr>\n",
       "    <tr>\n",
       "      <th>birth_year</th>\n",
       "      <td>0.0</td>\n",
       "    </tr>\n",
       "    <tr>\n",
       "      <th>gender</th>\n",
       "      <td>0.0</td>\n",
       "    </tr>\n",
       "    <tr>\n",
       "      <th>day_since_register</th>\n",
       "      <td>0.0</td>\n",
       "    </tr>\n",
       "  </tbody>\n",
       "</table>\n",
       "</div>"
      ],
      "text/plain": [
       "                         nan_ratio\n",
       "start_date                     0.0\n",
       "end_date                       0.0\n",
       "start_hour                     0.0\n",
       "end_hour                       0.0\n",
       "trip_duration                  0.0\n",
       "start_station_id               0.0\n",
       "start_station_name             0.0\n",
       "start_station_latitude         0.0\n",
       "start_station_longitude        0.0\n",
       "end_station_id                 0.0\n",
       "end_station_name               0.0\n",
       "end_station_latitude           0.0\n",
       "end_station_longitude          0.0\n",
       "bike_id                        0.0\n",
       "usertype                       0.0\n",
       "birth_year                     0.0\n",
       "gender                         0.0\n",
       "day_since_register             0.0"
      ]
     },
     "execution_count": 9,
     "metadata": {},
     "output_type": "execute_result"
    }
   ],
   "source": [
    "# 결측치 비율 파악\n",
    "pd.DataFrame(data=df.isnull().sum()/len(df),columns=['nan_ratio'])"
   ]
  },
  {
   "cell_type": "markdown",
   "metadata": {},
   "source": [
    "**결측치가 있다면 결측치에 대한 전처리를 거쳐줘야 한다.** 현 예시에서는 없으니, 패스!<br/> [결측치 제거 참고](https://eda-ai-lab.tistory.com/14)"
   ]
  },
  {
   "cell_type": "code",
   "execution_count": 10,
   "metadata": {},
   "outputs": [
    {
     "data": {
      "text/plain": [
       "start_date                  object\n",
       "end_date                    object\n",
       "start_hour                   int64\n",
       "end_hour                     int64\n",
       "trip_duration                int64\n",
       "start_station_id             int64\n",
       "start_station_name          object\n",
       "start_station_latitude     float64\n",
       "start_station_longitude    float64\n",
       "end_station_id               int64\n",
       "end_station_name            object\n",
       "end_station_latitude       float64\n",
       "end_station_longitude      float64\n",
       "bike_id                      int64\n",
       "usertype                    object\n",
       "birth_year                   int64\n",
       "gender                      object\n",
       "day_since_register           int64\n",
       "dtype: object"
      ]
     },
     "execution_count": 10,
     "metadata": {},
     "output_type": "execute_result"
    }
   ],
   "source": [
    "# 변수 타입 파악\n",
    "df.dtypes "
   ]
  },
  {
   "cell_type": "markdown",
   "metadata": {},
   "source": [
    "#### 시각화에서 중요한 건 범주형변수, 연속형변수 두가지로 구분하고 시작하는 것\n",
    "> 범주형 변수 : 빈도(frequency) 계산 가능 <br/>\n",
    "> 연속형 변수 : 평균, 표준편차, 분산 등의 수학적 계산 가능\n",
    "\n",
    "\n",
    "- dtypes로 전체 변수 타입을 확인할때, 범주형이어도 연속형 변수 dtype일 수 있다 <br/>\n",
    "- 이 예시에서는 trip_duration, day_since_register 연속형 변수, 그 외는 다 범주형<br/>\n",
    "- 실제로 연속형이 아닌데, int64(연속형)인 변수들을 string으로 만들어준다"
   ]
  },
  {
   "cell_type": "code",
   "execution_count": 11,
   "metadata": {},
   "outputs": [],
   "source": [
    "df['start_station_id']=df['start_station_id'].astype(str)\n",
    "df['end_station_id']=df['end_station_id'].astype(str)\n",
    "df['bike_id']=df['bike_id'].astype(str)"
   ]
  },
  {
   "cell_type": "code",
   "execution_count": 12,
   "metadata": {},
   "outputs": [
    {
     "data": {
      "text/plain": [
       "start_date                  object\n",
       "end_date                    object\n",
       "start_hour                   int64\n",
       "end_hour                     int64\n",
       "trip_duration                int64\n",
       "start_station_id            object\n",
       "start_station_name          object\n",
       "start_station_latitude     float64\n",
       "start_station_longitude    float64\n",
       "end_station_id              object\n",
       "end_station_name            object\n",
       "end_station_latitude       float64\n",
       "end_station_longitude      float64\n",
       "bike_id                     object\n",
       "usertype                    object\n",
       "birth_year                   int64\n",
       "gender                      object\n",
       "day_since_register           int64\n",
       "dtype: object"
      ]
     },
     "execution_count": 12,
     "metadata": {},
     "output_type": "execute_result"
    }
   ],
   "source": [
    "df.dtypes"
   ]
  },
  {
   "cell_type": "markdown",
   "metadata": {},
   "source": [
    "## &#128205; 2. 데이터 도메인과 변수 이해\n",
    "먼저, 가지고 있는 데이터에 대해서 이해하기 위해서는 어떤 변수들이 있는지 그리고 각 변수들의 의미와 풀고자하는 문제 간의 연관성 등을 파악해야 한다.\n",
    "* 변수 이름\n",
    "* 변수 타입 \n",
    "* 변수들의 Segmentation\n",
    "  >nyc_citibike 예시에서는. 이렇게 Segmentation 해볼 수 있다.\n",
    "  >* 주행시간 변수 (start_date, end_date, start_hour, end_hour, trip_duration)\n",
    "  >* 주행위치 변수 (start_station_id,start_station_name, start_station_latitude, start_station_longitutde, end_station_id,end_station_name, end_station_latitude, end_station_longitude)\n",
    "  >* 대여바이크종류 변수 (bike_id)\n",
    "  >* 유저정보 변수 (usertype, birth_year, gender,day_since_register)\n",
    "\n",
    "* 단변수 분석에서, 변수들에 대해 알고 싶은 정보를 생각해낸다.\n",
    "    > * 평균적 trip_duration은 얼마일까?\n",
    "    > * 가장 기록(=대여 건 수)이 많은 start_hour는 언제일까?\n",
    "    > * 유저들 성별 분포는 어떨까?\n",
    "\n",
    "* 서로 영향을 줄 변수들에 대한 기대 가설을 세워본다.\n",
    "    >* 신규 가입자들이 한번 탈 때 더 짧게 쓰지 않을까?\n",
    "    >* gender에 따라 trip_duration이 다르지 않을까? 어떻게 다를까?\n",
    "    > * start_hour이 새벽 시간대일수록 trip_duration이 짧지 않을까?\n",
    "\n",
    "* 실제 EDA 후 기대한 가설과 결과를 보고 해석한다."
   ]
  },
  {
   "cell_type": "markdown",
   "metadata": {},
   "source": [
    "## &#128205; 3. QUEST"
   ]
  },
  {
   "cell_type": "markdown",
   "metadata": {},
   "source": [
    "### 3.1 \n",
    "\n",
    "연령대(ex.10,20,30,40대) 변수와 함께 어떤 변수와의 관계를 보면 좋을지 기대 가설을 세우고, 적절한 방식으로 시각화 후 해석 보태 주세요.\n",
    "연령은 25세, 26세~ 아닌 20대의 BIN 형태 연령대 (범주형 변수)로 묶어주세요.\n",
    "\n",
    "[참고](https://nittaku.tistory.com/124)"
   ]
  },
  {
   "cell_type": "code",
   "execution_count": 13,
   "metadata": {},
   "outputs": [],
   "source": [
    "df['age']=2019-df['birth_year']+1 "
   ]
  },
  {
   "cell_type": "code",
   "execution_count": 14,
   "metadata": {},
   "outputs": [],
   "source": [
    "df['age']=df['age']-df['age']%10"
   ]
  },
  {
   "cell_type": "code",
   "execution_count": 15,
   "metadata": {},
   "outputs": [
    {
     "data": {
      "text/html": [
       "<div>\n",
       "<style scoped>\n",
       "    .dataframe tbody tr th:only-of-type {\n",
       "        vertical-align: middle;\n",
       "    }\n",
       "\n",
       "    .dataframe tbody tr th {\n",
       "        vertical-align: top;\n",
       "    }\n",
       "\n",
       "    .dataframe thead th {\n",
       "        text-align: right;\n",
       "    }\n",
       "</style>\n",
       "<table border=\"1\" class=\"dataframe\">\n",
       "  <thead>\n",
       "    <tr style=\"text-align: right;\">\n",
       "      <th></th>\n",
       "      <th>start_date</th>\n",
       "      <th>end_date</th>\n",
       "      <th>start_hour</th>\n",
       "      <th>end_hour</th>\n",
       "      <th>trip_duration</th>\n",
       "      <th>start_station_id</th>\n",
       "      <th>start_station_name</th>\n",
       "      <th>start_station_latitude</th>\n",
       "      <th>start_station_longitude</th>\n",
       "      <th>end_station_id</th>\n",
       "      <th>end_station_name</th>\n",
       "      <th>end_station_latitude</th>\n",
       "      <th>end_station_longitude</th>\n",
       "      <th>bike_id</th>\n",
       "      <th>usertype</th>\n",
       "      <th>birth_year</th>\n",
       "      <th>gender</th>\n",
       "      <th>day_since_register</th>\n",
       "      <th>age</th>\n",
       "      <th>gen</th>\n",
       "    </tr>\n",
       "  </thead>\n",
       "  <tbody>\n",
       "    <tr>\n",
       "      <th>0</th>\n",
       "      <td>2018-05-01</td>\n",
       "      <td>2018-05-01</td>\n",
       "      <td>4</td>\n",
       "      <td>4</td>\n",
       "      <td>390</td>\n",
       "      <td>3002</td>\n",
       "      <td>South End Ave &amp; Liberty St</td>\n",
       "      <td>40.711512</td>\n",
       "      <td>-74.015756</td>\n",
       "      <td>79</td>\n",
       "      <td>Franklin St &amp; W Broadway</td>\n",
       "      <td>40.719116</td>\n",
       "      <td>-74.006667</td>\n",
       "      <td>21105</td>\n",
       "      <td>Subscriber</td>\n",
       "      <td>1945</td>\n",
       "      <td>male</td>\n",
       "      <td>36</td>\n",
       "      <td>70</td>\n",
       "      <td>60s</td>\n",
       "    </tr>\n",
       "    <tr>\n",
       "      <th>1</th>\n",
       "      <td>2018-05-01</td>\n",
       "      <td>2018-05-01</td>\n",
       "      <td>1</td>\n",
       "      <td>1</td>\n",
       "      <td>854</td>\n",
       "      <td>3611</td>\n",
       "      <td>Vernon Blvd &amp; 47 Rd</td>\n",
       "      <td>40.744907</td>\n",
       "      <td>-73.953457</td>\n",
       "      <td>3572</td>\n",
       "      <td>34 Ave &amp; 38 St</td>\n",
       "      <td>40.756913</td>\n",
       "      <td>-73.921631</td>\n",
       "      <td>32219</td>\n",
       "      <td>Subscriber</td>\n",
       "      <td>1998</td>\n",
       "      <td>male</td>\n",
       "      <td>29</td>\n",
       "      <td>20</td>\n",
       "      <td>10s</td>\n",
       "    </tr>\n",
       "    <tr>\n",
       "      <th>2</th>\n",
       "      <td>2018-05-01</td>\n",
       "      <td>2018-05-01</td>\n",
       "      <td>4</td>\n",
       "      <td>4</td>\n",
       "      <td>526</td>\n",
       "      <td>515</td>\n",
       "      <td>W 43 St &amp; 10 Ave</td>\n",
       "      <td>40.760094</td>\n",
       "      <td>-73.994618</td>\n",
       "      <td>388</td>\n",
       "      <td>W 26 St &amp; 10 Ave</td>\n",
       "      <td>40.749718</td>\n",
       "      <td>-74.002950</td>\n",
       "      <td>33433</td>\n",
       "      <td>Subscriber</td>\n",
       "      <td>1954</td>\n",
       "      <td>male</td>\n",
       "      <td>55</td>\n",
       "      <td>60</td>\n",
       "      <td>50s</td>\n",
       "    </tr>\n",
       "    <tr>\n",
       "      <th>3</th>\n",
       "      <td>2018-05-01</td>\n",
       "      <td>2018-05-01</td>\n",
       "      <td>3</td>\n",
       "      <td>3</td>\n",
       "      <td>885</td>\n",
       "      <td>3641</td>\n",
       "      <td>Broadway &amp; W 25 St</td>\n",
       "      <td>40.742869</td>\n",
       "      <td>-73.989186</td>\n",
       "      <td>336</td>\n",
       "      <td>Sullivan St &amp; Washington Sq</td>\n",
       "      <td>40.730477</td>\n",
       "      <td>-73.999061</td>\n",
       "      <td>32028</td>\n",
       "      <td>Subscriber</td>\n",
       "      <td>1963</td>\n",
       "      <td>male</td>\n",
       "      <td>32</td>\n",
       "      <td>50</td>\n",
       "      <td>40s</td>\n",
       "    </tr>\n",
       "    <tr>\n",
       "      <th>4</th>\n",
       "      <td>2018-05-01</td>\n",
       "      <td>2018-05-01</td>\n",
       "      <td>1</td>\n",
       "      <td>1</td>\n",
       "      <td>324</td>\n",
       "      <td>3440</td>\n",
       "      <td>Fulton St &amp; Adams St</td>\n",
       "      <td>40.692418</td>\n",
       "      <td>-73.989495</td>\n",
       "      <td>3308</td>\n",
       "      <td>Kane St &amp; Clinton St</td>\n",
       "      <td>40.686176</td>\n",
       "      <td>-73.996453</td>\n",
       "      <td>26425</td>\n",
       "      <td>Subscriber</td>\n",
       "      <td>1965</td>\n",
       "      <td>male</td>\n",
       "      <td>34</td>\n",
       "      <td>50</td>\n",
       "      <td>40s</td>\n",
       "    </tr>\n",
       "  </tbody>\n",
       "</table>\n",
       "</div>"
      ],
      "text/plain": [
       "   start_date    end_date  start_hour  end_hour  trip_duration  \\\n",
       "0  2018-05-01  2018-05-01           4         4            390   \n",
       "1  2018-05-01  2018-05-01           1         1            854   \n",
       "2  2018-05-01  2018-05-01           4         4            526   \n",
       "3  2018-05-01  2018-05-01           3         3            885   \n",
       "4  2018-05-01  2018-05-01           1         1            324   \n",
       "\n",
       "  start_station_id          start_station_name  start_station_latitude  \\\n",
       "0             3002  South End Ave & Liberty St               40.711512   \n",
       "1             3611         Vernon Blvd & 47 Rd               40.744907   \n",
       "2              515            W 43 St & 10 Ave               40.760094   \n",
       "3             3641          Broadway & W 25 St               40.742869   \n",
       "4             3440        Fulton St & Adams St               40.692418   \n",
       "\n",
       "   start_station_longitude end_station_id             end_station_name  \\\n",
       "0               -74.015756             79     Franklin St & W Broadway   \n",
       "1               -73.953457           3572               34 Ave & 38 St   \n",
       "2               -73.994618            388             W 26 St & 10 Ave   \n",
       "3               -73.989186            336  Sullivan St & Washington Sq   \n",
       "4               -73.989495           3308         Kane St & Clinton St   \n",
       "\n",
       "   end_station_latitude  end_station_longitude bike_id    usertype  \\\n",
       "0             40.719116             -74.006667   21105  Subscriber   \n",
       "1             40.756913             -73.921631   32219  Subscriber   \n",
       "2             40.749718             -74.002950   33433  Subscriber   \n",
       "3             40.730477             -73.999061   32028  Subscriber   \n",
       "4             40.686176             -73.996453   26425  Subscriber   \n",
       "\n",
       "   birth_year gender  day_since_register  age  gen  \n",
       "0        1945   male                  36   70  60s  \n",
       "1        1998   male                  29   20  10s  \n",
       "2        1954   male                  55   60  50s  \n",
       "3        1963   male                  32   50  40s  \n",
       "4        1965   male                  34   50  40s  "
      ]
     },
     "execution_count": 15,
     "metadata": {},
     "output_type": "execute_result"
    }
   ],
   "source": [
    "bins = [10,20 , 30, 40, 50, 60, 70, 80, 90, 100]\n",
    "labels=['10s','20s','30s','40s','50s','60s','70s','80s','90s']\n",
    "df['gen'] = pd.cut(df['age'], bins, labels =labels)\n",
    "df.head()"
   ]
  },
  {
   "cell_type": "code",
   "execution_count": 16,
   "metadata": {},
   "outputs": [
    {
     "data": {
      "text/plain": [
       "20s    23632\n",
       "40s    17328\n",
       "30s    14356\n",
       "10s    10954\n",
       "50s     4824\n",
       "60s      751\n",
       "70s       43\n",
       "80s        9\n",
       "90s        5\n",
       "Name: gen, dtype: int64"
      ]
     },
     "execution_count": 16,
     "metadata": {},
     "output_type": "execute_result"
    }
   ],
   "source": [
    "df['gen'].value_counts()"
   ]
  },
  {
   "cell_type": "code",
   "execution_count": 17,
   "metadata": {},
   "outputs": [],
   "source": [
    "cut_point = df[\"trip_duration\"].quantile(0.80) # 가설: 낮은 연령대는 citibike를 단거리 이동에 활용(trip duration이 낮을 것)\n",
    "df_cut=df[df['trip_duration'] < cut_point]"
   ]
  },
  {
   "cell_type": "code",
   "execution_count": 18,
   "metadata": {},
   "outputs": [
    {
     "data": {
      "image/png": "[encoded data removed]",
      "text/plain": [
       "<Figure size 1080x576 with 1 Axes>"
      ]
     },
     "metadata": {},
     "output_type": "display_data"
    }
   ],
   "source": [
    "plt.figure(figsize=(15,8))\n",
    "box=sns.boxplot(x='gen',y='trip_duration',data=df_cut,linewidth=3)\n",
    "box.set_xlabel(\"연령대\")\n",
    "box.set_ylabel(\"주행 시간\")\n",
    "plt.show()\n",
    "#연령대에 따라 주행시간에 큰 차이가 나타나지 않았다. "
   ]
  },
  {
   "cell_type": "code",
   "execution_count": 19,
   "metadata": {},
   "outputs": [],
   "source": [
    "cut_point = df[\"start_hour\"].quantile(0.10) # 가설: 낮은 연령대는 citibike를 더 늦은 시간대에 활용할 것\n",
    "df_cut=df[df['start_hour'] > cut_point]"
   ]
  },
  {
   "cell_type": "code",
   "execution_count": 20,
   "metadata": {},
   "outputs": [
    {
     "data": {
      "image/png": "[encoded data removed]",
      "text/plain": [
       "<Figure size 1080x576 with 1 Axes>"
      ]
     },
     "metadata": {},
     "output_type": "display_data"
    }
   ],
   "source": [
    "plt.figure(figsize=(15,8))\n",
    "box=sns.boxplot(x='gen',y='start_hour',data=df,linewidth=3)\n",
    "box.set_xlabel(\"연령대\")\n",
    "box.set_ylabel(\"시작 시간\")\n",
    "plt.show()  #연령대가 높아짐에 따라 start_hour이 빨라지는 경향성이 나타났다."
   ]
  },
  {
   "cell_type": "markdown",
   "metadata": {},
   "source": [
    "**해석 보태기**\n",
    ">"
   ]
  },
  {
   "cell_type": "markdown",
   "metadata": {},
   "source": [
    "### 3.2\n",
    "\n",
    "Bike_id (바이크 하나하나에 붙어있는 고유 아이디) 에 따른 trip_duration을 시각화해주세요. trip_duration은 평균(mean)이어도 좋고, 누적(sum)이어도 좋습니다. 해석 보태 주세요.\n",
    "Groupby 함수 사용해주시면 편합니다.\n",
    "\n"
   ]
  },
  {
   "cell_type": "code",
   "execution_count": 50,
   "metadata": {},
   "outputs": [
    {
     "data": {
      "text/html": [
       "<div>\n",
       "<style scoped>\n",
       "    .dataframe tbody tr th:only-of-type {\n",
       "        vertical-align: middle;\n",
       "    }\n",
       "\n",
       "    .dataframe tbody tr th {\n",
       "        vertical-align: top;\n",
       "    }\n",
       "\n",
       "    .dataframe thead th {\n",
       "        text-align: right;\n",
       "    }\n",
       "</style>\n",
       "<table border=\"1\" class=\"dataframe\">\n",
       "  <thead>\n",
       "    <tr style=\"text-align: right;\">\n",
       "      <th></th>\n",
       "      <th>bike_id</th>\n",
       "      <th>trip_duration</th>\n",
       "    </tr>\n",
       "  </thead>\n",
       "  <tbody>\n",
       "    <tr>\n",
       "      <th>0</th>\n",
       "      <td>14529</td>\n",
       "      <td>1065.750000</td>\n",
       "    </tr>\n",
       "    <tr>\n",
       "      <th>1</th>\n",
       "      <td>14530</td>\n",
       "      <td>870.375000</td>\n",
       "    </tr>\n",
       "    <tr>\n",
       "      <th>2</th>\n",
       "      <td>14532</td>\n",
       "      <td>1659.000000</td>\n",
       "    </tr>\n",
       "    <tr>\n",
       "      <th>3</th>\n",
       "      <td>14533</td>\n",
       "      <td>1052.571429</td>\n",
       "    </tr>\n",
       "    <tr>\n",
       "      <th>4</th>\n",
       "      <td>14534</td>\n",
       "      <td>596.000000</td>\n",
       "    </tr>\n",
       "  </tbody>\n",
       "</table>\n",
       "</div>"
      ],
      "text/plain": [
       "  bike_id  trip_duration\n",
       "0   14529    1065.750000\n",
       "1   14530     870.375000\n",
       "2   14532    1659.000000\n",
       "3   14533    1052.571429\n",
       "4   14534     596.000000"
      ]
     },
     "execution_count": 50,
     "metadata": {},
     "output_type": "execute_result"
    }
   ],
   "source": [
    "id_trip=df.groupby(['bike_id'])['trip_duration'].mean().reset_index()\n",
    "id_trip.head()"
   ]
  },
  {
   "cell_type": "code",
   "execution_count": 51,
   "metadata": {},
   "outputs": [
    {
     "data": {
      "text/plain": [
       "<function matplotlib.pyplot.show(*args, **kw)>"
      ]
     },
     "execution_count": 51,
     "metadata": {},
     "output_type": "execute_result"
    },
    {
     "data": {
      "image/png": "[encoded data removed]",
      "text/plain": [
       "<Figure size 432x288 with 1 Axes>"
      ]
     },
     "metadata": {},
     "output_type": "display_data"
    }
   ],
   "source": [
    "plt.plot(id_trip['trip_duration'])\n",
    "plt.show"
   ]
  },
  {
   "cell_type": "code",
   "execution_count": 55,
   "metadata": {},
   "outputs": [],
   "source": [
    "cut_point = id_trip[\"trip_duration\"].quantile(0.99)\n",
    "id_cut=id_trip[id_trip['trip_duration'] < cut_point]"
   ]
  },
  {
   "cell_type": "code",
   "execution_count": 56,
   "metadata": {},
   "outputs": [
    {
     "data": {
      "text/plain": [
       "<function matplotlib.pyplot.show(*args, **kw)>"
      ]
     },
     "execution_count": 56,
     "metadata": {},
     "output_type": "execute_result"
    },
    {
     "data": {
      "image/png": "[encoded data removed]",
      "text/plain": [
       "<Figure size 1440x360 with 1 Axes>"
      ]
     },
     "metadata": {},
     "output_type": "display_data"
    }
   ],
   "source": [
    "plt.figure(figsize=(20,5))\n",
    "plt.plot(id_cut['trip_duration'])\n",
    "plt.show"
   ]
  },
  {
   "cell_type": "markdown",
   "metadata": {},
   "source": [
    "**해석 보태기**\n",
    ">#대부분의 trip duration 평균이 500~1500사이에 분포되어 있지만, 일부 bike id의 trip duration 평균이 매우 높다. 사용자들이 많이 이용하는 bike id가 존재한다. "
   ]
  },
  {
   "cell_type": "code",
   "execution_count": 86,
   "metadata": {},
   "outputs": [
    {
     "data": {
      "text/plain": [
       "6501    349617.666667\n",
       "5621    347749.000000\n",
       "7581    181389.250000\n",
       "412     103884.000000\n",
       "4966     89985.500000\n",
       "Name: trip_duration, dtype: float64"
      ]
     },
     "execution_count": 86,
     "metadata": {},
     "output_type": "execute_result"
    }
   ],
   "source": [
    "id_top=id_trip['trip_duration'].nlargest(50)\n",
    "id_top.head(5)"
   ]
  },
  {
   "cell_type": "code",
   "execution_count": 67,
   "metadata": {},
   "outputs": [
    {
     "data": {
      "text/plain": [
       "6270    71.0\n",
       "1029    72.0\n",
       "2726    80.0\n",
       "1738    81.0\n",
       "7775    82.0\n",
       "1956    88.0\n",
       "3593    88.0\n",
       "1795    89.0\n",
       "9615    92.0\n",
       "1065    96.0\n",
       "Name: trip_duration, dtype: float64"
      ]
     },
     "execution_count": 67,
     "metadata": {},
     "output_type": "execute_result"
    }
   ],
   "source": [
    "id_trip['trip_duration'].nsmallest(10)  #수치 상으로도 큰 차이가 있다. 그렇다면 bike id의 사용 빈도에 영향을 미치는 변수는 무엇일까?"
   ]
  },
  {
   "cell_type": "code",
   "execution_count": 117,
   "metadata": {},
   "outputs": [
    {
     "data": {
      "text/html": [
       "<div>\n",
       "<style scoped>\n",
       "    .dataframe tbody tr th:only-of-type {\n",
       "        vertical-align: middle;\n",
       "    }\n",
       "\n",
       "    .dataframe tbody tr th {\n",
       "        vertical-align: top;\n",
       "    }\n",
       "\n",
       "    .dataframe thead th {\n",
       "        text-align: right;\n",
       "    }\n",
       "</style>\n",
       "<table border=\"1\" class=\"dataframe\">\n",
       "  <thead>\n",
       "    <tr style=\"text-align: right;\">\n",
       "      <th></th>\n",
       "      <th>bike_id</th>\n",
       "      <th>trip_duration</th>\n",
       "      <th>start_hour</th>\n",
       "    </tr>\n",
       "  </thead>\n",
       "  <tbody>\n",
       "    <tr>\n",
       "      <th>225</th>\n",
       "      <td>14927</td>\n",
       "      <td>47652.000000</td>\n",
       "      <td>12.666667</td>\n",
       "    </tr>\n",
       "    <tr>\n",
       "      <th>412</th>\n",
       "      <td>15298</td>\n",
       "      <td>103884.000000</td>\n",
       "      <td>13.000000</td>\n",
       "    </tr>\n",
       "    <tr>\n",
       "      <th>1305</th>\n",
       "      <td>16916</td>\n",
       "      <td>44675.000000</td>\n",
       "      <td>17.000000</td>\n",
       "    </tr>\n",
       "    <tr>\n",
       "      <th>2922</th>\n",
       "      <td>19841</td>\n",
       "      <td>76197.111111</td>\n",
       "      <td>11.888889</td>\n",
       "    </tr>\n",
       "    <tr>\n",
       "      <th>3234</th>\n",
       "      <td>20540</td>\n",
       "      <td>48359.000000</td>\n",
       "      <td>16.000000</td>\n",
       "    </tr>\n",
       "    <tr>\n",
       "      <th>3793</th>\n",
       "      <td>21514</td>\n",
       "      <td>48411.666667</td>\n",
       "      <td>15.000000</td>\n",
       "    </tr>\n",
       "    <tr>\n",
       "      <th>4966</th>\n",
       "      <td>26404</td>\n",
       "      <td>89985.500000</td>\n",
       "      <td>6.000000</td>\n",
       "    </tr>\n",
       "    <tr>\n",
       "      <th>5621</th>\n",
       "      <td>27371</td>\n",
       "      <td>347749.000000</td>\n",
       "      <td>2.000000</td>\n",
       "    </tr>\n",
       "    <tr>\n",
       "      <th>6501</th>\n",
       "      <td>28543</td>\n",
       "      <td>349617.666667</td>\n",
       "      <td>12.000000</td>\n",
       "    </tr>\n",
       "    <tr>\n",
       "      <th>7581</th>\n",
       "      <td>30298</td>\n",
       "      <td>181389.250000</td>\n",
       "      <td>8.000000</td>\n",
       "    </tr>\n",
       "  </tbody>\n",
       "</table>\n",
       "</div>"
      ],
      "text/plain": [
       "     bike_id  trip_duration  start_hour\n",
       "225    14927   47652.000000   12.666667\n",
       "412    15298  103884.000000   13.000000\n",
       "1305   16916   44675.000000   17.000000\n",
       "2922   19841   76197.111111   11.888889\n",
       "3234   20540   48359.000000   16.000000\n",
       "3793   21514   48411.666667   15.000000\n",
       "4966   26404   89985.500000    6.000000\n",
       "5621   27371  347749.000000    2.000000\n",
       "6501   28543  349617.666667   12.000000\n",
       "7581   30298  181389.250000    8.000000"
      ]
     },
     "execution_count": 117,
     "metadata": {},
     "output_type": "execute_result"
    }
   ],
   "source": [
    "idid=df.groupby(['bike_id'])['trip_duration','start_hour'].mean().reset_index()\n",
    "cut_point = idid[\"trip_duration\"].quantile(0.999)\n",
    "idid_cut=idid[idid['trip_duration'] > cut_point]\n",
    "idid_cut.head(10)"
   ]
  },
  {
   "cell_type": "markdown",
   "metadata": {},
   "source": [
    "### 3.3\n",
    "\n",
    "Bike_id, Trip_duration, + 한 가지 변수 더 추가해서 3개 이상 변수 시각화 방식으로 시각화 해주세요. 해석은 안 보태 주셔도 됩니다."
   ]
  },
  {
   "cell_type": "code",
   "execution_count": 118,
   "metadata": {},
   "outputs": [
    {
     "data": {
      "image/png": "[encoded data removed]",
      "text/plain": [
       "<Figure size 1440x720 with 2 Axes>"
      ]
     },
     "metadata": {},
     "output_type": "display_data"
    }
   ],
   "source": [
    "plt.figure(figsize=(20,10))\n",
    "plt.scatter(idid_cut['start_hour'], # x축\n",
    "            idid_cut['bike_id'], # y축\n",
    "            c=idid_cut['trip_duration'], # 색상(얘를 통해서 변수 하나가 표현된다)\n",
    "            s=idid_cut['trip_duration']/8, # 사이즈 (얘도 변수의 역할)\n",
    "            # 10을 곱해본 이유는 그래프 사이즈에 맞게 원의 지름을 키워주기 위함\n",
    "            alpha=0.4, # 투명도\n",
    "            cmap='viridis') # 컬러바 종류\n",
    "plt.colorbar()\n",
    "plt.ylabel('Top 11 bike id')\n",
    "plt.xlabel('대여 시작 시간대')\n",
    "# plt.xticks(rotation=90) # x축에 종류가 많으면 label 돌려주기\n",
    "plt.show()"
   ]
  },
  {
   "cell_type": "code",
   "execution_count": null,
   "metadata": {},
   "outputs": [],
   "source": []
  },
  {
   "cell_type": "markdown",
   "metadata": {},
   "source": [
    "**해석 보태기**\n",
    ">"
   ]
  }
 ],
 "metadata": {
  "kernelspec": {
   "display_name": "Python 3",
   "language": "python",
   "name": "python3"
  },
  "language_info": {
   "codemirror_mode": {
    "name": "ipython",
    "version": 3
   },
   "file_extension": ".py",
   "mimetype": "text/x-python",
   "name": "python",
   "nbconvert_exporter": "python",
   "pygments_lexer": "ipython3",
   "version": "3.7.1"
  }
 },
 "nbformat": 4,
 "nbformat_minor": 2
}
